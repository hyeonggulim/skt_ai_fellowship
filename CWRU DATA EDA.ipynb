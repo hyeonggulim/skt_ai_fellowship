{
 "cells": [
  {
   "cell_type": "code",
   "execution_count": 6,
   "metadata": {},
   "outputs": [],
   "source": [
    "from scipy import io\n",
    "from matplotlib import pyplot as plt"
   ]
  },
  {
   "cell_type": "code",
   "execution_count": 20,
   "metadata": {},
   "outputs": [
    {
     "name": "stdout",
     "output_type": "stream",
     "text": [
      "dict_keys(['__header__', '__version__', '__globals__', 'X118_DE_time', 'X118_FE_time', 'X118_BA_time', 'X118RPM'])\n"
     ]
    }
   ],
   "source": [
    "# dic 형식\n",
    "mat_file = io.loadmat('./CWRU/B007_0.mat')\n",
    "#mat_file = io.loadmat('./CWRU/97.mat')\n",
    "\n",
    "print(mat_file.keys())"
   ]
  },
  {
   "cell_type": "code",
   "execution_count": 21,
   "metadata": {},
   "outputs": [
    {
     "data": {
      "text/plain": [
       "122571"
      ]
     },
     "execution_count": 21,
     "metadata": {},
     "output_type": "execute_result"
    }
   ],
   "source": [
    "len(mat_file['X118_BA_time'])"
   ]
  },
  {
   "cell_type": "code",
   "execution_count": 41,
   "metadata": {},
   "outputs": [
    {
     "data": {
      "text/plain": [
       "{'__header__': b'MATLAB 5.0 MAT-file, Platform: PCWIN, Created on: Mon Jan 31 15:29:19 2000',\n",
       " '__version__': '1.0',\n",
       " '__globals__': [],\n",
       " 'X135_DE_time': array([[ 0.89351067],\n",
       "        [ 0.58844   ],\n",
       "        [ 0.15441333],\n",
       "        ...,\n",
       "        [-0.07094667],\n",
       "        [-0.117688  ],\n",
       "        [-0.14439733]]),\n",
       " 'X135_FE_time': array([[ 0.23750545],\n",
       "        [ 0.21511091],\n",
       "        [ 0.15429636],\n",
       "        ...,\n",
       "        [ 0.09224909],\n",
       "        [ 0.03759818],\n",
       "        [-0.00410909]]),\n",
       " 'X135RPM': array([[1796]], dtype=uint16)}"
      ]
     },
     "execution_count": 41,
     "metadata": {},
     "output_type": "execute_result"
    }
   ],
   "source": [
    "mat_file"
   ]
  },
  {
   "cell_type": "code",
   "execution_count": 47,
   "metadata": {},
   "outputs": [
    {
     "data": {
      "text/plain": [
       "1796"
      ]
     },
     "execution_count": 47,
     "metadata": {},
     "output_type": "execute_result"
    }
   ],
   "source": [
    "mat_file['X135RPM'][0][0]"
   ]
  },
  {
   "cell_type": "code",
   "execution_count": 3,
   "metadata": {},
   "outputs": [
    {
     "ename": "SyntaxError",
     "evalue": "invalid syntax (__init__.py, line 14)",
     "output_type": "error",
     "traceback": [
      "Traceback \u001b[1;36m(most recent call last)\u001b[0m:\n",
      "  File \u001b[0;32m\"C:\\Users\\SIL\\anaconda3\\lib\\site-packages\\IPython\\core\\interactiveshell.py\"\u001b[0m, line \u001b[0;32m3418\u001b[0m, in \u001b[0;35mrun_code\u001b[0m\n    exec(code_obj, self.user_global_ns, self.user_ns)\n",
      "\u001b[1;36m  File \u001b[1;32m\"<ipython-input-3-26d641c8d729>\"\u001b[1;36m, line \u001b[1;32m1\u001b[1;36m, in \u001b[1;35m<module>\u001b[1;36m\u001b[0m\n\u001b[1;33m    import cwru\u001b[0m\n",
      "\u001b[1;36m  File \u001b[1;32m\"C:\\Users\\SIL\\AppData\\Roaming\\Python\\Python38\\site-packages\\cwru\\__init__.py\"\u001b[1;36m, line \u001b[1;32m14\u001b[0m\n\u001b[1;33m    print \"wrong experiment name: {}\".format(exp)\u001b[0m\n\u001b[1;37m          ^\u001b[0m\n\u001b[1;31mSyntaxError\u001b[0m\u001b[1;31m:\u001b[0m invalid syntax\n"
     ]
    }
   ],
   "source": [
    "import cwru"
   ]
  },
  {
   "cell_type": "code",
   "execution_count": 2,
   "metadata": {},
   "outputs": [
    {
     "name": "stdout",
     "output_type": "stream",
     "text": [
      "Requirement already satisfied: cwru in c:\\users\\sil\\appdata\\roaming\\python\\python38\\site-packages (0.2)\n",
      "Requirement already satisfied: numpy in c:\\users\\sil\\anaconda3\\lib\\site-packages (from cwru) (1.19.2)\n",
      "Requirement already satisfied: scipy in c:\\users\\sil\\anaconda3\\lib\\site-packages (from cwru) (1.5.2)\n"
     ]
    }
   ],
   "source": [
    "!pip install cwru"
   ]
  },
  {
   "cell_type": "code",
   "execution_count": 8,
   "metadata": {},
   "outputs": [
    {
     "name": "stderr",
     "output_type": "stream",
     "text": [
      "python: can't open file 'setup.py': [Errno 2] No such file or directory\n"
     ]
    }
   ],
   "source": []
  },
  {
   "cell_type": "code",
   "execution_count": 4,
   "metadata": {},
   "outputs": [
    {
     "ename": "SyntaxError",
     "evalue": "invalid syntax (<ipython-input-4-061f676092c5>, line 6)",
     "output_type": "error",
     "traceback": [
      "\u001b[1;36m  File \u001b[1;32m\"<ipython-input-4-061f676092c5>\"\u001b[1;36m, line \u001b[1;32m6\u001b[0m\n\u001b[1;33m    using namespace std;\u001b[0m\n\u001b[1;37m          ^\u001b[0m\n\u001b[1;31mSyntaxError\u001b[0m\u001b[1;31m:\u001b[0m invalid syntax\n"
     ]
    }
   ],
   "source": []
  },
  {
   "cell_type": "code",
   "execution_count": 5,
   "metadata": {},
   "outputs": [],
   "source": [
    "import os\n",
    "import glob\n",
    "import errno\n",
    "import random\n",
    "import urllib.request as urllib\n",
    "import numpy as np\n",
    "from scipy.io import loadmat\n",
    "\n",
    "\n",
    "class CWRU:\n",
    "    def __init__(self, exp, rpm, length):\n",
    "        if exp not in ('12DriveEndFault', '12FanEndFault', '48DriveEndFault'):\n",
    "            print(\"wrong experiment name: {}\".format(exp))\n",
    "            exit(1)\n",
    "        if rpm not in ('1797', '1772', '1750', '1730'):\n",
    "            print(\"wrong rpm value: {}\".format(rpm))\n",
    "            exit(1)\n",
    "        # root directory of all data\n",
    "        rdir = os.path.join('Data/CWRU')\n",
    "        print(rdir)\n",
    "        fmeta = os.path.join(os.path.dirname(__file__), 'metadata.txt')\n",
    "        all_lines = open(fmeta).readlines()\n",
    "        lines = []\n",
    "        for line in all_lines:\n",
    "            l = line.split()\n",
    "            if (l[0] == exp or l[0] == 'NormalBaseline') and l[1] == rpm:\n",
    "                lines.append(l)\n",
    "        self.length = length  # sequence length\n",
    "        self._load_and_slice_data(rdir, lines)\n",
    "        # shuffle training and test arrays\n",
    "        self._shuffle()\n",
    "        self.labels = tuple(line[2] for line in lines)\n",
    "        self.nclasses = len(self.labels)  # number of classes\n",
    "\n",
    "    def _mkdir(self, path):\n",
    "        try:\n",
    "            os.makedirs(path)\n",
    "        except OSError as exc:\n",
    "            if exc.errno == errno.EEXIST and os.path.isdir(path):\n",
    "                pass\n",
    "            else:\n",
    "                print(\"can't create directory '{}''\".format(path))\n",
    "                exit(1)\n",
    "\n",
    "    def _download(self, fpath, link):\n",
    "        print(\"Downloading to: '{}'\".format(fpath))\n",
    "        urllib.URLopener().retrieve(link, fpath)\n",
    "\n",
    "    def _load_and_slice_data(self, rdir, infos):\n",
    "        self.X_train = np.zeros((0, self.length))\n",
    "        self.X_test = np.zeros((0, self.length))\n",
    "        self.y_train = []\n",
    "        self.y_test = []\n",
    "        for idx, info in enumerate(infos):\n",
    "\n",
    "            # directory of this file\n",
    "            fdir = os.path.join(rdir, info[0], info[1])\n",
    "            self._mkdir(fdir)\n",
    "            fpath = os.path.join(fdir, info[2] + '.mat')\n",
    "            if not os.path.exists(fpath):\n",
    "                self._download(fpath, info[3].rstrip('\\n'))\n",
    "\n",
    "            mat_dict = loadmat(fpath)\n",
    "            # key = filter(lambda x: 'DE_time' in x, mat_dict.keys())[0]\n",
    "            fliter_i = filter(lambda x: 'DE_time' in x, mat_dict.keys())\n",
    "            fliter_list = [item for item in fliter_i]\n",
    "            key = fliter_list[0]\n",
    "            time_series = mat_dict[key][:, 0]\n",
    "            idx_last = -(time_series.shape[0] % self.length)\n",
    "            clips = time_series[:idx_last].reshape(-1, self.length)\n",
    "            n = clips.shape[0]\n",
    "            n_split = int((3 * n / 4))\n",
    "            self.X_train = np.vstack((self.X_train, clips[:n_split]))\n",
    "            self.X_test = np.vstack((self.X_test, clips[n_split:]))\n",
    "            self.y_train += [idx] * n_split\n",
    "            self.y_test += [idx] * (clips.shape[0] - n_split)\n",
    "\n",
    "    def _shuffle(self):\n",
    "        # shuffle training samples\n",
    "        index = list(range(self.X_train.shape[0]))\n",
    "        random.Random(0).shuffle(index)\n",
    "        self.X_train = self.X_train[index]\n",
    "        self.y_train = tuple(self.y_train[i] for i in index)\n",
    "\n",
    "        # shuffle test samples\n",
    "        index = list(range(self.X_test.shape[0]))\n",
    "        random.Random(0).shuffle(index)\n",
    "        self.X_test = self.X_test[index]\n",
    "        self.y_test = tuple(self.y_test[i] for i in index)"
   ]
  },
  {
   "cell_type": "code",
   "execution_count": null,
   "metadata": {},
   "outputs": [],
   "source": []
  }
 ],
 "metadata": {
  "kernelspec": {
   "display_name": "Python 3",
   "language": "python",
   "name": "python3"
  },
  "language_info": {
   "codemirror_mode": {
    "name": "ipython",
    "version": 3
   },
   "file_extension": ".py",
   "mimetype": "text/x-python",
   "name": "python",
   "nbconvert_exporter": "python",
   "pygments_lexer": "ipython3",
   "version": "3.8.5"
  }
 },
 "nbformat": 4,
 "nbformat_minor": 4
}
